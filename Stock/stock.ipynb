{
 "cells": [
  {
   "cell_type": "code",
   "execution_count": 49,
   "metadata": {},
   "outputs": [],
   "source": [
    "import numpy as np\n",
    "import pandas as pd"
   ]
  },
  {
   "cell_type": "code",
   "execution_count": 77,
   "metadata": {},
   "outputs": [],
   "source": [
    "train = pd.read_csv('train.csv')\n",
    "test = pd.read_csv('test.csv')"
   ]
  },
  {
   "cell_type": "code",
   "execution_count": 78,
   "metadata": {},
   "outputs": [
    {
     "name": "stdout",
     "output_type": "stream",
     "text": [
      "         Date   Open   High    Low  Close  Up\n",
      "0  2004-01-02  50.85  50.91  50.62  50.72   1\n",
      "1  2004-01-05  50.75  50.84  50.61  50.79   1\n",
      "2  2004-01-06  50.87  51.26  50.86  51.15   1\n",
      "3  2004-01-07  51.45  51.54  51.29  51.51   0\n",
      "4  2004-01-08  51.15  51.33  51.02  51.28   0\n",
      "5  2004-01-09  51.11  51.32  51.01  51.01   0\n",
      "6  2004-01-12  50.80  50.90  50.55  50.87   0\n",
      "7  2004-01-13  50.90  50.98  50.53  50.61   1\n",
      "8  2004-01-14  50.43  50.65  50.40  50.64   1\n",
      "9  2004-01-15  51.01  51.27  50.70  51.01   1\n",
      "            Date    Open    High     Low   Close  Up\n",
      "2016  2012-01-04  106.97  107.90  106.70  107.19   1\n",
      "2017  2012-01-05  108.98  109.70  108.36  109.26   1\n",
      "2018  2012-01-06  109.46  109.99  109.29  109.86   0\n",
      "2019  2012-01-09  110.51  110.55  109.45  109.55   0\n",
      "2020  2012-01-10  109.54  109.70  108.85  109.12   0\n",
      "2021  2012-01-11  108.62  109.00  108.41  108.86   1\n",
      "2022  2012-01-12  109.68  109.90  109.44  109.83   0\n",
      "2023  2012-01-13  109.53  109.72  109.08  109.66   1\n",
      "2024  2012-01-17  109.99  110.47  109.57  109.96   1\n",
      "2025  2012-01-18  110.06  110.82  109.94  110.58   0\n",
      "         Date    Open    High     Low   Close\n",
      "0  2012-01-19  110.79  110.82  109.96  110.39\n",
      "1  2012-01-20  110.45  111.10  110.36  110.73\n",
      "2  2012-01-23  110.95  111.10  109.65  110.36\n",
      "3  2012-01-24  110.16  110.16  108.13  108.39\n",
      "4  2012-01-25  106.25  107.11  105.97  106.89\n",
      "5  2012-01-26  109.03  109.16  108.37  108.75\n",
      "6  2012-02-02  108.02  108.45  108.02  108.30\n",
      "7  2012-02-03  108.75  109.60  108.64  109.40\n",
      "8  2012-02-06  110.10  110.13  109.62  109.73\n",
      "9  2012-02-07  109.05  110.30  109.04  110.09\n",
      "            Date    Open    High     Low   Close\n",
      "1190  2019-12-04  181.41  182.09  180.86  181.97\n",
      "1191  2019-12-05  183.10  183.10  182.04  182.88\n",
      "1192  2019-12-06  183.13  184.06  182.78  183.75\n",
      "1193  2019-12-09  184.64  185.18  183.58  183.88\n",
      "1194  2019-12-16  186.35  186.79  185.48  186.58\n",
      "1195  2019-12-17  185.52  186.40  184.62  184.68\n",
      "1196  2019-12-18  183.86  184.01  182.38  183.10\n",
      "1197  2019-12-19  183.83  185.17  183.66  185.08\n",
      "1198  2019-12-20  186.29  186.64  184.81  185.19\n",
      "1199  2019-12-23  184.38  184.38  183.20  183.34\n"
     ]
    }
   ],
   "source": [
    "print(train.head(10))\n",
    "print(train.tail(10))\n",
    "print(test.head(10))\n",
    "print(test.tail(10))"
   ]
  },
  {
   "cell_type": "code",
   "execution_count": 79,
   "metadata": {},
   "outputs": [
    {
     "name": "stdout",
     "output_type": "stream",
     "text": [
      "(2026, 6)\n",
      "(1200, 5)\n"
     ]
    }
   ],
   "source": [
    "print(train.shape)\n",
    "print(test.shape)"
   ]
  },
  {
   "cell_type": "code",
   "execution_count": 80,
   "metadata": {},
   "outputs": [
    {
     "name": "stdout",
     "output_type": "stream",
     "text": [
      "<class 'pandas.core.frame.DataFrame'>\n",
      "RangeIndex: 2026 entries, 0 to 2025\n",
      "Data columns (total 6 columns):\n",
      " #   Column  Non-Null Count  Dtype  \n",
      "---  ------  --------------  -----  \n",
      " 0   Date    2026 non-null   object \n",
      " 1   Open    2026 non-null   float64\n",
      " 2   High    2026 non-null   float64\n",
      " 3   Low     2026 non-null   float64\n",
      " 4   Close   2026 non-null   float64\n",
      " 5   Up      2026 non-null   int64  \n",
      "dtypes: float64(4), int64(1), object(1)\n",
      "memory usage: 95.1+ KB\n",
      "None\n",
      "<class 'pandas.core.frame.DataFrame'>\n",
      "RangeIndex: 1200 entries, 0 to 1199\n",
      "Data columns (total 5 columns):\n",
      " #   Column  Non-Null Count  Dtype  \n",
      "---  ------  --------------  -----  \n",
      " 0   Date    1200 non-null   object \n",
      " 1   Open    1200 non-null   float64\n",
      " 2   High    1200 non-null   float64\n",
      " 3   Low     1200 non-null   float64\n",
      " 4   Close   1200 non-null   float64\n",
      "dtypes: float64(4), object(1)\n",
      "memory usage: 47.0+ KB\n",
      "None\n"
     ]
    }
   ],
   "source": [
    "print(train.info())\n",
    "print(test.info())"
   ]
  },
  {
   "cell_type": "code",
   "execution_count": 81,
   "metadata": {},
   "outputs": [
    {
     "name": "stdout",
     "output_type": "stream",
     "text": [
      "0    2004-01-02\n",
      "1    2004-01-05\n",
      "2    2004-01-06\n",
      "3    2004-01-07\n",
      "4    2004-01-08\n",
      "Name: Date, dtype: object\n"
     ]
    }
   ],
   "source": [
    "print(train['Date'].head())"
   ]
  },
  {
   "cell_type": "code",
   "execution_count": 82,
   "metadata": {},
   "outputs": [],
   "source": [
    "train.set_index(keys='Date', inplace=True)"
   ]
  },
  {
   "cell_type": "code",
   "execution_count": 83,
   "metadata": {},
   "outputs": [
    {
     "name": "stdout",
     "output_type": "stream",
     "text": [
      "             Open   High    Low  Close  Up\n",
      "Date                                      \n",
      "2004-01-02  50.85  50.91  50.62  50.72   1\n",
      "2004-01-05  50.75  50.84  50.61  50.79   1\n",
      "2004-01-06  50.87  51.26  50.86  51.15   1\n",
      "2004-01-07  51.45  51.54  51.29  51.51   0\n",
      "2004-01-08  51.15  51.33  51.02  51.28   0\n"
     ]
    }
   ],
   "source": [
    "print(train.head())"
   ]
  },
  {
   "cell_type": "code",
   "execution_count": 67,
   "metadata": {},
   "outputs": [],
   "source": [
    "from matplotlib import pyplot as plt"
   ]
  },
  {
   "cell_type": "code",
   "execution_count": 84,
   "metadata": {},
   "outputs": [
    {
     "name": "stdout",
     "output_type": "stream",
     "text": [
      "<bound method NDFrame.describe of               Open    High     Low   Close  Up\n",
      "Date                                          \n",
      "2004-01-02   50.85   50.91   50.62   50.72   1\n",
      "2004-01-05   50.75   50.84   50.61   50.79   1\n",
      "2004-01-06   50.87   51.26   50.86   51.15   1\n",
      "2004-01-07   51.45   51.54   51.29   51.51   0\n",
      "2004-01-08   51.15   51.33   51.02   51.28   0\n",
      "...            ...     ...     ...     ...  ..\n",
      "2012-01-11  108.62  109.00  108.41  108.86   1\n",
      "2012-01-12  109.68  109.90  109.44  109.83   0\n",
      "2012-01-13  109.53  109.72  109.08  109.66   1\n",
      "2012-01-17  109.99  110.47  109.57  109.96   1\n",
      "2012-01-18  110.06  110.82  109.94  110.58   0\n",
      "\n",
      "[2026 rows x 5 columns]>\n"
     ]
    }
   ],
   "source": [
    "print(train.describe)"
   ]
  },
  {
   "cell_type": "code",
   "execution_count": 85,
   "metadata": {},
   "outputs": [
    {
     "ename": "KeyError",
     "evalue": "'Date'",
     "output_type": "error",
     "traceback": [
      "\u001b[0;31m---------------------------------------------------------------------------\u001b[0m",
      "\u001b[0;31mKeyError\u001b[0m                                  Traceback (most recent call last)",
      "\u001b[0;32m/opt/anaconda3/lib/python3.8/site-packages/pandas/core/indexes/base.py\u001b[0m in \u001b[0;36mget_loc\u001b[0;34m(self, key, method, tolerance)\u001b[0m\n\u001b[1;32m   2894\u001b[0m             \u001b[0;32mtry\u001b[0m\u001b[0;34m:\u001b[0m\u001b[0;34m\u001b[0m\u001b[0;34m\u001b[0m\u001b[0m\n\u001b[0;32m-> 2895\u001b[0;31m                 \u001b[0;32mreturn\u001b[0m \u001b[0mself\u001b[0m\u001b[0;34m.\u001b[0m\u001b[0m_engine\u001b[0m\u001b[0;34m.\u001b[0m\u001b[0mget_loc\u001b[0m\u001b[0;34m(\u001b[0m\u001b[0mcasted_key\u001b[0m\u001b[0;34m)\u001b[0m\u001b[0;34m\u001b[0m\u001b[0;34m\u001b[0m\u001b[0m\n\u001b[0m\u001b[1;32m   2896\u001b[0m             \u001b[0;32mexcept\u001b[0m \u001b[0mKeyError\u001b[0m \u001b[0;32mas\u001b[0m \u001b[0merr\u001b[0m\u001b[0;34m:\u001b[0m\u001b[0;34m\u001b[0m\u001b[0;34m\u001b[0m\u001b[0m\n",
      "\u001b[0;32mpandas/_libs/index.pyx\u001b[0m in \u001b[0;36mpandas._libs.index.IndexEngine.get_loc\u001b[0;34m()\u001b[0m\n",
      "\u001b[0;32mpandas/_libs/index.pyx\u001b[0m in \u001b[0;36mpandas._libs.index.IndexEngine.get_loc\u001b[0;34m()\u001b[0m\n",
      "\u001b[0;32mpandas/_libs/hashtable_class_helper.pxi\u001b[0m in \u001b[0;36mpandas._libs.hashtable.PyObjectHashTable.get_item\u001b[0;34m()\u001b[0m\n",
      "\u001b[0;32mpandas/_libs/hashtable_class_helper.pxi\u001b[0m in \u001b[0;36mpandas._libs.hashtable.PyObjectHashTable.get_item\u001b[0;34m()\u001b[0m\n",
      "\u001b[0;31mKeyError\u001b[0m: 'Date'",
      "\nThe above exception was the direct cause of the following exception:\n",
      "\u001b[0;31mKeyError\u001b[0m                                  Traceback (most recent call last)",
      "\u001b[0;32m<ipython-input-85-65b8a4a16b5f>\u001b[0m in \u001b[0;36m<module>\u001b[0;34m\u001b[0m\n\u001b[0;32m----> 1\u001b[0;31m \u001b[0mtrain\u001b[0m\u001b[0;34m[\u001b[0m\u001b[0;34m'Date'\u001b[0m\u001b[0;34m]\u001b[0m \u001b[0;34m=\u001b[0m \u001b[0mtrain\u001b[0m\u001b[0;34m[\u001b[0m\u001b[0;34m'Date'\u001b[0m\u001b[0;34m]\u001b[0m\u001b[0;34m.\u001b[0m\u001b[0mapply\u001b[0m\u001b[0;34m(\u001b[0m\u001b[0;32mlambda\u001b[0m \u001b[0mx\u001b[0m\u001b[0;34m:\u001b[0m \u001b[0mdatetime\u001b[0m\u001b[0;34m.\u001b[0m\u001b[0mstrptime\u001b[0m\u001b[0;34m(\u001b[0m\u001b[0mx\u001b[0m\u001b[0;34m,\u001b[0m \u001b[0;34m'%d/%m/%Y'\u001b[0m\u001b[0;34m)\u001b[0m\u001b[0;34m)\u001b[0m\u001b[0;34m\u001b[0m\u001b[0;34m\u001b[0m\u001b[0m\n\u001b[0m",
      "\u001b[0;32m/opt/anaconda3/lib/python3.8/site-packages/pandas/core/frame.py\u001b[0m in \u001b[0;36m__getitem__\u001b[0;34m(self, key)\u001b[0m\n\u001b[1;32m   2900\u001b[0m             \u001b[0;32mif\u001b[0m \u001b[0mself\u001b[0m\u001b[0;34m.\u001b[0m\u001b[0mcolumns\u001b[0m\u001b[0;34m.\u001b[0m\u001b[0mnlevels\u001b[0m \u001b[0;34m>\u001b[0m \u001b[0;36m1\u001b[0m\u001b[0;34m:\u001b[0m\u001b[0;34m\u001b[0m\u001b[0;34m\u001b[0m\u001b[0m\n\u001b[1;32m   2901\u001b[0m                 \u001b[0;32mreturn\u001b[0m \u001b[0mself\u001b[0m\u001b[0;34m.\u001b[0m\u001b[0m_getitem_multilevel\u001b[0m\u001b[0;34m(\u001b[0m\u001b[0mkey\u001b[0m\u001b[0;34m)\u001b[0m\u001b[0;34m\u001b[0m\u001b[0;34m\u001b[0m\u001b[0m\n\u001b[0;32m-> 2902\u001b[0;31m             \u001b[0mindexer\u001b[0m \u001b[0;34m=\u001b[0m \u001b[0mself\u001b[0m\u001b[0;34m.\u001b[0m\u001b[0mcolumns\u001b[0m\u001b[0;34m.\u001b[0m\u001b[0mget_loc\u001b[0m\u001b[0;34m(\u001b[0m\u001b[0mkey\u001b[0m\u001b[0;34m)\u001b[0m\u001b[0;34m\u001b[0m\u001b[0;34m\u001b[0m\u001b[0m\n\u001b[0m\u001b[1;32m   2903\u001b[0m             \u001b[0;32mif\u001b[0m \u001b[0mis_integer\u001b[0m\u001b[0;34m(\u001b[0m\u001b[0mindexer\u001b[0m\u001b[0;34m)\u001b[0m\u001b[0;34m:\u001b[0m\u001b[0;34m\u001b[0m\u001b[0;34m\u001b[0m\u001b[0m\n\u001b[1;32m   2904\u001b[0m                 \u001b[0mindexer\u001b[0m \u001b[0;34m=\u001b[0m \u001b[0;34m[\u001b[0m\u001b[0mindexer\u001b[0m\u001b[0;34m]\u001b[0m\u001b[0;34m\u001b[0m\u001b[0;34m\u001b[0m\u001b[0m\n",
      "\u001b[0;32m/opt/anaconda3/lib/python3.8/site-packages/pandas/core/indexes/base.py\u001b[0m in \u001b[0;36mget_loc\u001b[0;34m(self, key, method, tolerance)\u001b[0m\n\u001b[1;32m   2895\u001b[0m                 \u001b[0;32mreturn\u001b[0m \u001b[0mself\u001b[0m\u001b[0;34m.\u001b[0m\u001b[0m_engine\u001b[0m\u001b[0;34m.\u001b[0m\u001b[0mget_loc\u001b[0m\u001b[0;34m(\u001b[0m\u001b[0mcasted_key\u001b[0m\u001b[0;34m)\u001b[0m\u001b[0;34m\u001b[0m\u001b[0;34m\u001b[0m\u001b[0m\n\u001b[1;32m   2896\u001b[0m             \u001b[0;32mexcept\u001b[0m \u001b[0mKeyError\u001b[0m \u001b[0;32mas\u001b[0m \u001b[0merr\u001b[0m\u001b[0;34m:\u001b[0m\u001b[0;34m\u001b[0m\u001b[0;34m\u001b[0m\u001b[0m\n\u001b[0;32m-> 2897\u001b[0;31m                 \u001b[0;32mraise\u001b[0m \u001b[0mKeyError\u001b[0m\u001b[0;34m(\u001b[0m\u001b[0mkey\u001b[0m\u001b[0;34m)\u001b[0m \u001b[0;32mfrom\u001b[0m \u001b[0merr\u001b[0m\u001b[0;34m\u001b[0m\u001b[0;34m\u001b[0m\u001b[0m\n\u001b[0m\u001b[1;32m   2898\u001b[0m \u001b[0;34m\u001b[0m\u001b[0m\n\u001b[1;32m   2899\u001b[0m         \u001b[0;32mif\u001b[0m \u001b[0mtolerance\u001b[0m \u001b[0;32mis\u001b[0m \u001b[0;32mnot\u001b[0m \u001b[0;32mNone\u001b[0m\u001b[0;34m:\u001b[0m\u001b[0;34m\u001b[0m\u001b[0;34m\u001b[0m\u001b[0m\n",
      "\u001b[0;31mKeyError\u001b[0m: 'Date'"
     ]
    }
   ],
   "source": [
    "train['Date'] = train['Date'].apply(lambda x: datetime.strptime(x, '%d/%m/%Y'))"
   ]
  },
  {
   "cell_type": "code",
   "execution_count": 86,
   "metadata": {},
   "outputs": [
    {
     "ename": "TypeError",
     "evalue": "function missing required argument 'month' (pos 2)",
     "output_type": "error",
     "traceback": [
      "\u001b[0;31m---------------------------------------------------------------------------\u001b[0m",
      "\u001b[0;31mTypeError\u001b[0m                                 Traceback (most recent call last)",
      "\u001b[0;32m<ipython-input-86-c157172a3db8>\u001b[0m in \u001b[0;36m<module>\u001b[0;34m\u001b[0m\n\u001b[0;32m----> 1\u001b[0;31m \u001b[0mtrainX_new\u001b[0m \u001b[0;34m=\u001b[0m \u001b[0mtrain\u001b[0m\u001b[0;34m.\u001b[0m\u001b[0mloc\u001b[0m\u001b[0;34m[\u001b[0m\u001b[0mtrain\u001b[0m\u001b[0;34m.\u001b[0m\u001b[0mindex\u001b[0m \u001b[0;34m>\u001b[0m \u001b[0mdatetime\u001b[0m\u001b[0;34m(\u001b[0m\u001b[0;36m2008\u001b[0m\u001b[0;34m-\u001b[0m\u001b[0;36m10\u001b[0m\u001b[0;34m-\u001b[0m\u001b[0;36m2\u001b[0m\u001b[0;34m)\u001b[0m\u001b[0;34m,\u001b[0m\u001b[0;34m[\u001b[0m\u001b[0;34m'Open'\u001b[0m\u001b[0;34m,\u001b[0m \u001b[0;34m'High'\u001b[0m\u001b[0;34m,\u001b[0m \u001b[0;34m'Low'\u001b[0m\u001b[0;34m,\u001b[0m \u001b[0;34m'Close'\u001b[0m\u001b[0;34m]\u001b[0m\u001b[0;34m]\u001b[0m\u001b[0;34m\u001b[0m\u001b[0;34m\u001b[0m\u001b[0m\n\u001b[0m",
      "\u001b[0;31mTypeError\u001b[0m: function missing required argument 'month' (pos 2)"
     ]
    }
   ],
   "source": [
    "trainX_new = train.loc[train.index > datetime(2008-10-2),['Open', 'High', 'Low', 'Close']]"
   ]
  },
  {
   "cell_type": "code",
   "execution_count": 60,
   "metadata": {
    "scrolled": true
   },
   "outputs": [
    {
     "data": {
      "image/png": "[encoded data removed]",
      "text/plain": [
       "<Figure size 432x288 with 1 Axes>"
      ]
     },
     "metadata": {
      "needs_background": "light"
     },
     "output_type": "display_data"
    }
   ],
   "source": [
    "trainX_new.plot(kind='line')\n",
    "plt.show()"
   ]
  },
  {
   "cell_type": "code",
   "execution_count": 41,
   "metadata": {},
   "outputs": [],
   "source": [
    "from datetime import datetime"
   ]
  },
  {
   "cell_type": "code",
   "execution_count": 87,
   "metadata": {},
   "outputs": [],
   "source": [
    "sr_up = train['Up']"
   ]
  },
  {
   "cell_type": "code",
   "execution_count": 88,
   "metadata": {},
   "outputs": [
    {
     "name": "stdout",
     "output_type": "stream",
     "text": [
      "1    1045\n",
      "0     981\n",
      "Name: Up, dtype: int64\n"
     ]
    }
   ],
   "source": [
    "print(sr_up.value_counts())"
   ]
  },
  {
   "cell_type": "code",
   "execution_count": 89,
   "metadata": {},
   "outputs": [
    {
     "data": {
      "image/png": "[encoded data removed]",
      "text/plain": [
       "<Figure size 432x288 with 1 Axes>"
      ]
     },
     "metadata": {
      "needs_background": "light"
     },
     "output_type": "display_data"
    }
   ],
   "source": [
    "sr_up.plot(kind='line')\n",
    "plt.show()"
   ]
  },
  {
   "cell_type": "code",
   "execution_count": 72,
   "metadata": {},
   "outputs": [
    {
     "ename": "TypeError",
     "evalue": "Only valid with DatetimeIndex, TimedeltaIndex or PeriodIndex, but got an instance of 'Index'",
     "output_type": "error",
     "traceback": [
      "\u001b[0;31m---------------------------------------------------------------------------\u001b[0m",
      "\u001b[0;31mTypeError\u001b[0m                                 Traceback (most recent call last)",
      "\u001b[0;32m<ipython-input-72-78322bf137ac>\u001b[0m in \u001b[0;36m<module>\u001b[0;34m\u001b[0m\n\u001b[0;32m----> 1\u001b[0;31m \u001b[0mup_monthly\u001b[0m \u001b[0;34m=\u001b[0m \u001b[0msr_up\u001b[0m\u001b[0;34m.\u001b[0m\u001b[0mresample\u001b[0m\u001b[0;34m(\u001b[0m\u001b[0mrule\u001b[0m\u001b[0;34m=\u001b[0m\u001b[0;34m'M'\u001b[0m\u001b[0;34m)\u001b[0m\u001b[0;34m\u001b[0m\u001b[0;34m\u001b[0m\u001b[0m\n\u001b[0m",
      "\u001b[0;32m/opt/anaconda3/lib/python3.8/site-packages/pandas/core/generic.py\u001b[0m in \u001b[0;36mresample\u001b[0;34m(self, rule, axis, closed, label, convention, kind, loffset, base, on, level, origin, offset)\u001b[0m\n\u001b[1;32m   8075\u001b[0m \u001b[0;34m\u001b[0m\u001b[0m\n\u001b[1;32m   8076\u001b[0m         \u001b[0maxis\u001b[0m \u001b[0;34m=\u001b[0m \u001b[0mself\u001b[0m\u001b[0;34m.\u001b[0m\u001b[0m_get_axis_number\u001b[0m\u001b[0;34m(\u001b[0m\u001b[0maxis\u001b[0m\u001b[0;34m)\u001b[0m\u001b[0;34m\u001b[0m\u001b[0;34m\u001b[0m\u001b[0m\n\u001b[0;32m-> 8077\u001b[0;31m         return get_resampler(\n\u001b[0m\u001b[1;32m   8078\u001b[0m             \u001b[0mself\u001b[0m\u001b[0;34m,\u001b[0m\u001b[0;34m\u001b[0m\u001b[0;34m\u001b[0m\u001b[0m\n\u001b[1;32m   8079\u001b[0m             \u001b[0mfreq\u001b[0m\u001b[0;34m=\u001b[0m\u001b[0mrule\u001b[0m\u001b[0;34m,\u001b[0m\u001b[0;34m\u001b[0m\u001b[0;34m\u001b[0m\u001b[0m\n",
      "\u001b[0;32m/opt/anaconda3/lib/python3.8/site-packages/pandas/core/resample.py\u001b[0m in \u001b[0;36mget_resampler\u001b[0;34m(obj, kind, **kwds)\u001b[0m\n\u001b[1;32m   1267\u001b[0m     \"\"\"\n\u001b[1;32m   1268\u001b[0m     \u001b[0mtg\u001b[0m \u001b[0;34m=\u001b[0m \u001b[0mTimeGrouper\u001b[0m\u001b[0;34m(\u001b[0m\u001b[0;34m**\u001b[0m\u001b[0mkwds\u001b[0m\u001b[0;34m)\u001b[0m\u001b[0;34m\u001b[0m\u001b[0;34m\u001b[0m\u001b[0m\n\u001b[0;32m-> 1269\u001b[0;31m     \u001b[0;32mreturn\u001b[0m \u001b[0mtg\u001b[0m\u001b[0;34m.\u001b[0m\u001b[0m_get_resampler\u001b[0m\u001b[0;34m(\u001b[0m\u001b[0mobj\u001b[0m\u001b[0;34m,\u001b[0m \u001b[0mkind\u001b[0m\u001b[0;34m=\u001b[0m\u001b[0mkind\u001b[0m\u001b[0;34m)\u001b[0m\u001b[0;34m\u001b[0m\u001b[0;34m\u001b[0m\u001b[0m\n\u001b[0m\u001b[1;32m   1270\u001b[0m \u001b[0;34m\u001b[0m\u001b[0m\n\u001b[1;32m   1271\u001b[0m \u001b[0;34m\u001b[0m\u001b[0m\n",
      "\u001b[0;32m/opt/anaconda3/lib/python3.8/site-packages/pandas/core/resample.py\u001b[0m in \u001b[0;36m_get_resampler\u001b[0;34m(self, obj, kind)\u001b[0m\n\u001b[1;32m   1432\u001b[0m             \u001b[0;32mreturn\u001b[0m \u001b[0mTimedeltaIndexResampler\u001b[0m\u001b[0;34m(\u001b[0m\u001b[0mobj\u001b[0m\u001b[0;34m,\u001b[0m \u001b[0mgroupby\u001b[0m\u001b[0;34m=\u001b[0m\u001b[0mself\u001b[0m\u001b[0;34m,\u001b[0m \u001b[0maxis\u001b[0m\u001b[0;34m=\u001b[0m\u001b[0mself\u001b[0m\u001b[0;34m.\u001b[0m\u001b[0maxis\u001b[0m\u001b[0;34m)\u001b[0m\u001b[0;34m\u001b[0m\u001b[0;34m\u001b[0m\u001b[0m\n\u001b[1;32m   1433\u001b[0m \u001b[0;34m\u001b[0m\u001b[0m\n\u001b[0;32m-> 1434\u001b[0;31m         raise TypeError(\n\u001b[0m\u001b[1;32m   1435\u001b[0m             \u001b[0;34m\"Only valid with DatetimeIndex, \"\u001b[0m\u001b[0;34m\u001b[0m\u001b[0;34m\u001b[0m\u001b[0m\n\u001b[1;32m   1436\u001b[0m             \u001b[0;34m\"TimedeltaIndex or PeriodIndex, \"\u001b[0m\u001b[0;34m\u001b[0m\u001b[0;34m\u001b[0m\u001b[0m\n",
      "\u001b[0;31mTypeError\u001b[0m: Only valid with DatetimeIndex, TimedeltaIndex or PeriodIndex, but got an instance of 'Index'"
     ]
    }
   ],
   "source": [
    "up_monthly = sr_up.resample(rule='M')"
   ]
  },
  {
   "cell_type": "code",
   "execution_count": 90,
   "metadata": {},
   "outputs": [],
   "source": [
    "train['Body'] = train['Open'] - train['Close']"
   ]
  },
  {
   "cell_type": "code",
   "execution_count": 75,
   "metadata": {},
   "outputs": [],
   "source": [
    "from sklearn.model_selection import train_test_split"
   ]
  },
  {
   "cell_type": "code",
   "execution_count": 91,
   "metadata": {},
   "outputs": [
    {
     "name": "stdout",
     "output_type": "stream",
     "text": [
      "             Open   High    Low  Close  Body\n",
      "Date                                        \n",
      "2004-01-02  50.85  50.91  50.62  50.72  0.13\n",
      "2004-01-05  50.75  50.84  50.61  50.79 -0.04\n",
      "2004-01-06  50.87  51.26  50.86  51.15 -0.28\n",
      "2004-01-07  51.45  51.54  51.29  51.51 -0.06\n",
      "2004-01-08  51.15  51.33  51.02  51.28 -0.13\n",
      "Date\n",
      "2004-01-02    1\n",
      "2004-01-05    1\n",
      "2004-01-06    1\n",
      "2004-01-07    0\n",
      "2004-01-08    0\n",
      "Name: Up, dtype: int64\n"
     ]
    }
   ],
   "source": [
    "# 説明変数をX_dataに格納\n",
    "X_data = train.drop(columns=['Up'])\n",
    "\n",
    "# 目的変数をy_dataに格納\n",
    "y_data = train['Up']\n",
    "\n",
    "# X_dataとy_dataの先頭5行を確認\n",
    "print(X_data.head())\n",
    "print(y_data.head())"
   ]
  },
  {
   "cell_type": "code",
   "execution_count": 92,
   "metadata": {},
   "outputs": [],
   "source": [
    "# train_test_splitのインポート\n",
    "from sklearn.model_selection import train_test_split\n",
    "\n",
    "# 学習データおよび検証データと、評価データに80:20の割合で2分割する\n",
    "X_trainval, X_test, y_trainval, y_test = train_test_split(X_data, y_data, test_size=0.20, shuffle=False)\n",
    "\n",
    "# 学習データと検証データに75:25の割合で2分割する\n",
    "X_train, X_val, y_train, y_val = train_test_split(X_trainval, y_trainval, test_size=0.25, shuffle=False)"
   ]
  },
  {
   "cell_type": "code",
   "execution_count": 93,
   "metadata": {},
   "outputs": [
    {
     "data": {
      "image/png": "[encoded data removed]",
      "text/plain": [
       "<Figure size 432x288 with 1 Axes>"
      ]
     },
     "metadata": {
      "needs_background": "light"
     },
     "output_type": "display_data"
    }
   ],
   "source": [
    "# 学習データのCloseの描画\n",
    "X_train['Close'].plot(kind='line')\n",
    "\n",
    "# 検証データのCloseの描画\n",
    "X_val['Close'].plot(kind='line')\n",
    "\n",
    "# 評価データのCloseの描画\n",
    "X_test['Close'].plot(kind='line')\n",
    "\n",
    "# 折れ線グラフの凡例を表示\n",
    "plt.legend(['Train', 'Val', 'Test'])\n",
    "\n",
    "# 描画の実行\n",
    "plt.show()"
   ]
  },
  {
   "cell_type": "code",
   "execution_count": 94,
   "metadata": {},
   "outputs": [],
   "source": [
    "from sklearn.preprocessing import StandardScaler"
   ]
  },
  {
   "cell_type": "code",
   "execution_count": 95,
   "metadata": {},
   "outputs": [
    {
     "name": "stdout",
     "output_type": "stream",
     "text": [
      "             Open   High    Low  Close  Body\n",
      "Date                                        \n",
      "2004-01-02  50.85  50.91  50.62  50.72  0.13\n",
      "2004-01-05  50.75  50.84  50.61  50.79 -0.04\n",
      "2004-01-06  50.87  51.26  50.86  51.15 -0.28\n",
      "2004-01-07  51.45  51.54  51.29  51.51 -0.06\n",
      "2004-01-08  51.15  51.33  51.02  51.28 -0.13\n",
      "             Open   High    Low  Close  Body\n",
      "Date                                        \n",
      "2004-01-05  50.75  50.84  50.61  50.79 -0.04\n",
      "2004-01-06  50.87  51.26  50.86  51.15 -0.28\n",
      "2004-01-07  51.45  51.54  51.29  51.51 -0.06\n",
      "2004-01-08  51.15  51.33  51.02  51.28 -0.13\n",
      "2004-01-09  51.11  51.32  51.01  51.01  0.10\n"
     ]
    }
   ],
   "source": [
    "def get_t(X, num_date):\n",
    "    X_t_list = []\n",
    "    for i in range(len(X) - num_date + 1):\n",
    "        X_t = X.iloc[i:i+num_date, :]\n",
    "        X_t_list.append(X_t)\n",
    "    return X_t_list\n",
    "\n",
    "# 期間の設定\n",
    "num_date = 5\n",
    "# 関数get_tの呼び出し\n",
    "X_t_list = get_t(X=X_train, num_date=num_date)\n",
    "# 学習データの1件目を表示\n",
    "print(X_t_list[0])\n",
    "# 学習データの2件目を表示\n",
    "print(X_t_list[1])"
   ]
  },
  {
   "cell_type": "code",
   "execution_count": 96,
   "metadata": {},
   "outputs": [
    {
     "name": "stdout",
     "output_type": "stream",
     "text": [
      "[[ 5.085e+01  5.091e+01  5.062e+01  5.072e+01  1.300e-01]\n",
      " [ 5.075e+01  5.084e+01  5.061e+01  5.079e+01 -4.000e-02]\n",
      " [ 5.087e+01  5.126e+01  5.086e+01  5.115e+01 -2.800e-01]\n",
      " [ 5.145e+01  5.154e+01  5.129e+01  5.151e+01 -6.000e-02]\n",
      " [ 5.115e+01  5.133e+01  5.102e+01  5.128e+01 -1.300e-01]]\n",
      "[[ 5.075e+01  5.084e+01  5.061e+01  5.079e+01 -4.000e-02]\n",
      " [ 5.087e+01  5.126e+01  5.086e+01  5.115e+01 -2.800e-01]\n",
      " [ 5.145e+01  5.154e+01  5.129e+01  5.151e+01 -6.000e-02]\n",
      " [ 5.115e+01  5.133e+01  5.102e+01  5.128e+01 -1.300e-01]\n",
      " [ 5.111e+01  5.132e+01  5.101e+01  5.101e+01  1.000e-01]]\n"
     ]
    }
   ],
   "source": [
    "# 関数get_tの定義\n",
    "def get_t(X, num_date):\n",
    "    # 入力データをNumPy配列に変換\n",
    "    X = np.array(X)\n",
    "    X_t_list = []\n",
    "    for i in range(len(X) - num_date + 1):\n",
    "        X_t = X[i:i+num_date, :]\n",
    "        X_t_list.append(X_t)\n",
    "    # Numpy配列のreturn\n",
    "    return np.array(X_t_list)\n",
    "    \n",
    "num_date = 5    \n",
    "\n",
    "# get_tの呼び出し\n",
    "X_array_data = get_t(X=X_train, num_date=num_date)\n",
    "\n",
    "# 学習データの1件目を表示\n",
    "print(X_array_data[0])\n",
    "# 学習データの2件目を表示\n",
    "print(X_array_data[1])"
   ]
  },
  {
   "cell_type": "code",
   "execution_count": 99,
   "metadata": {},
   "outputs": [
    {
     "name": "stdout",
     "output_type": "stream",
     "text": [
      "(1211, 5, 5)\n",
      "(401, 5, 5)\n",
      "(402, 5, 5)\n"
     ]
    }
   ],
   "source": [
    "# 関数get_standardized_tの定義\n",
    "def get_standardized_t(X, num_date):\n",
    "    X = np.array(X)\n",
    "    X_t_list = []\n",
    "    for i in range(len(X) - num_date + 1):\n",
    "        X_t = X[i:i+num_date]\n",
    "        scaler = StandardScaler()\n",
    "        X_standardized = scaler.fit_transform(X_t)\n",
    "        X_t_list.append(X_standardized)\n",
    "    return np.array(X_t_list)\n",
    "\n",
    "num_date = 5\n",
    "\n",
    "# 学習用、検証用、評価用データの加工\n",
    "X_train_t =  get_standardized_t(X=X_train, num_date=num_date)\n",
    "X_val_t = get_standardized_t(X=X_val, num_date=num_date)\n",
    "X_test_t = get_standardized_t(X=X_test, num_date=num_date)\n",
    "\n",
    "# 学習用、検証用、評価用データの形の表示\n",
    "print(X_train_t.shape)\n",
    "print(X_val_t.shape)\n",
    "print(X_test_t.shape)"
   ]
  },
  {
   "cell_type": "code",
   "execution_count": 100,
   "metadata": {},
   "outputs": [
    {
     "name": "stdout",
     "output_type": "stream",
     "text": [
      "(1211,)\n",
      "(401,)\n",
      "(402,)\n",
      "0.5152766308835673\n",
      "0.49625935162094764\n",
      "0.5298507462686567\n"
     ]
    }
   ],
   "source": [
    "num_date = 5  \n",
    "\n",
    "# 目的変数の変形\n",
    "y_train_t = y_train[num_date-1 :]\n",
    "y_val_t = y_val[num_date-1 :]\n",
    "y_test_t = y_test[num_date-1 :]\n",
    "\n",
    "# 目的変数の形の表示\n",
    "print(y_train_t.shape)\n",
    "print(y_val_t.shape)\n",
    "print(y_test_t.shape)\n",
    "\n",
    "# 目的変数の平均値の表示\n",
    "print(y_train_t.mean())\n",
    "print(y_val_t.mean())\n",
    "print(y_test_t.mean())"
   ]
  },
  {
   "cell_type": "code",
   "execution_count": 105,
   "metadata": {},
   "outputs": [],
   "source": [
    "# Sequentialのインポート\n",
    "from keras.models import Sequential\n",
    "# Dense、LSTMのインポート\n",
    "from keras.layers import Dense, LSTM"
   ]
  },
  {
   "cell_type": "code",
   "execution_count": 106,
   "metadata": {},
   "outputs": [],
   "source": [
    "# ネットワークの各層のサイズの定義\n",
    "num_l1 = 100\n",
    "num_l2 = 20\n",
    "num_output = 1\n",
    "\n",
    "# 以下、ネットワークを構築\n",
    "model = Sequential()\n",
    "# 第1層\n",
    "model.add(LSTM(units=num_l1,\n",
    "                activation='tanh',\n",
    "                batch_input_shape=(None, X_train_t.shape[1], X_train_t.shape[2])))\n",
    "# 第2層\n",
    "model.add(Dense(num_l2, activation='relu'))\n",
    "# 出力層\n",
    "model.add(Dense(num_output, activation='sigmoid'))\n",
    "# ネットワークのコンパイル\n",
    "model.compile(loss='binary_crossentropy', optimizer='adam', metrics=['accuracy'])"
   ]
  },
  {
   "cell_type": "code",
   "execution_count": 107,
   "metadata": {
    "collapsed": true
   },
   "outputs": [
    {
     "name": "stdout",
     "output_type": "stream",
     "text": [
      "Epoch 1/80\n",
      "51/51 [==============================] - 3s 20ms/step - loss: 0.6863 - accuracy: 0.5562 - val_loss: 0.6687 - val_accuracy: 0.5985\n",
      "Epoch 2/80\n",
      "51/51 [==============================] - 0s 6ms/step - loss: 0.6712 - accuracy: 0.5759 - val_loss: 0.6434 - val_accuracy: 0.6484\n",
      "Epoch 3/80\n",
      "51/51 [==============================] - 0s 5ms/step - loss: 0.6415 - accuracy: 0.6336 - val_loss: 0.6359 - val_accuracy: 0.6334\n",
      "Epoch 4/80\n",
      "51/51 [==============================] - 0s 6ms/step - loss: 0.6424 - accuracy: 0.6210 - val_loss: 0.6337 - val_accuracy: 0.6409\n",
      "Epoch 5/80\n",
      "51/51 [==============================] - 0s 7ms/step - loss: 0.6429 - accuracy: 0.6335 - val_loss: 0.6285 - val_accuracy: 0.6509\n",
      "Epoch 6/80\n",
      "51/51 [==============================] - 0s 7ms/step - loss: 0.6402 - accuracy: 0.6372 - val_loss: 0.6285 - val_accuracy: 0.6509\n",
      "Epoch 7/80\n",
      "51/51 [==============================] - 0s 6ms/step - loss: 0.6262 - accuracy: 0.6508 - val_loss: 0.6288 - val_accuracy: 0.6559\n",
      "Epoch 8/80\n",
      "51/51 [==============================] - 0s 7ms/step - loss: 0.6336 - accuracy: 0.6302 - val_loss: 0.6363 - val_accuracy: 0.6434\n",
      "Epoch 9/80\n",
      "51/51 [==============================] - 1s 10ms/step - loss: 0.6406 - accuracy: 0.6377 - val_loss: 0.6298 - val_accuracy: 0.6509\n",
      "Epoch 10/80\n",
      "51/51 [==============================] - 0s 8ms/step - loss: 0.6256 - accuracy: 0.6370 - val_loss: 0.6271 - val_accuracy: 0.6509\n",
      "Epoch 11/80\n",
      "51/51 [==============================] - 0s 6ms/step - loss: 0.6352 - accuracy: 0.6389 - val_loss: 0.6362 - val_accuracy: 0.6409\n",
      "Epoch 12/80\n",
      "51/51 [==============================] - 0s 7ms/step - loss: 0.6337 - accuracy: 0.6446 - val_loss: 0.6340 - val_accuracy: 0.6509\n",
      "Epoch 13/80\n",
      "51/51 [==============================] - 0s 5ms/step - loss: 0.6335 - accuracy: 0.6252 - val_loss: 0.6226 - val_accuracy: 0.6584\n",
      "Epoch 14/80\n",
      "51/51 [==============================] - 0s 7ms/step - loss: 0.6357 - accuracy: 0.6319 - val_loss: 0.6280 - val_accuracy: 0.6509\n",
      "Epoch 15/80\n",
      "51/51 [==============================] - 0s 6ms/step - loss: 0.6150 - accuracy: 0.6631 - val_loss: 0.6355 - val_accuracy: 0.6409\n",
      "Epoch 16/80\n",
      "51/51 [==============================] - 0s 8ms/step - loss: 0.6261 - accuracy: 0.6433 - val_loss: 0.6278 - val_accuracy: 0.6584\n",
      "Epoch 17/80\n",
      "51/51 [==============================] - 0s 6ms/step - loss: 0.6202 - accuracy: 0.6329 - val_loss: 0.6313 - val_accuracy: 0.6484\n",
      "Epoch 18/80\n",
      "51/51 [==============================] - 0s 7ms/step - loss: 0.6178 - accuracy: 0.6403 - val_loss: 0.6317 - val_accuracy: 0.6559\n",
      "Epoch 19/80\n",
      "51/51 [==============================] - 0s 6ms/step - loss: 0.6168 - accuracy: 0.6331 - val_loss: 0.6318 - val_accuracy: 0.6534\n",
      "Epoch 20/80\n",
      "51/51 [==============================] - 0s 6ms/step - loss: 0.6077 - accuracy: 0.6569 - val_loss: 0.6398 - val_accuracy: 0.6434\n",
      "Epoch 21/80\n",
      "51/51 [==============================] - 0s 8ms/step - loss: 0.6110 - accuracy: 0.6596 - val_loss: 0.6345 - val_accuracy: 0.6459\n",
      "Epoch 22/80\n",
      "51/51 [==============================] - 0s 6ms/step - loss: 0.5863 - accuracy: 0.6850 - val_loss: 0.6447 - val_accuracy: 0.6309\n",
      "Epoch 23/80\n",
      "51/51 [==============================] - 0s 7ms/step - loss: 0.5911 - accuracy: 0.6791 - val_loss: 0.6568 - val_accuracy: 0.6359\n",
      "Epoch 24/80\n",
      "51/51 [==============================] - 0s 6ms/step - loss: 0.5730 - accuracy: 0.6946 - val_loss: 0.6400 - val_accuracy: 0.6359\n",
      "Epoch 25/80\n",
      "51/51 [==============================] - 0s 7ms/step - loss: 0.6027 - accuracy: 0.6767 - val_loss: 0.6477 - val_accuracy: 0.6309\n",
      "Epoch 26/80\n",
      "51/51 [==============================] - 0s 6ms/step - loss: 0.5885 - accuracy: 0.6859 - val_loss: 0.6312 - val_accuracy: 0.6559\n",
      "Epoch 27/80\n",
      "51/51 [==============================] - 0s 7ms/step - loss: 0.5817 - accuracy: 0.6811 - val_loss: 0.6380 - val_accuracy: 0.6459\n",
      "Epoch 28/80\n",
      "51/51 [==============================] - 0s 6ms/step - loss: 0.5847 - accuracy: 0.6974 - val_loss: 0.6503 - val_accuracy: 0.6259\n",
      "Epoch 29/80\n",
      "51/51 [==============================] - 0s 6ms/step - loss: 0.5863 - accuracy: 0.6729 - val_loss: 0.6437 - val_accuracy: 0.6534\n",
      "Epoch 30/80\n",
      "51/51 [==============================] - 0s 8ms/step - loss: 0.5625 - accuracy: 0.7008 - val_loss: 0.6516 - val_accuracy: 0.6559\n",
      "Epoch 31/80\n",
      "51/51 [==============================] - 0s 6ms/step - loss: 0.5655 - accuracy: 0.6896 - val_loss: 0.6820 - val_accuracy: 0.6309\n",
      "Epoch 32/80\n",
      "51/51 [==============================] - 0s 7ms/step - loss: 0.5676 - accuracy: 0.6908 - val_loss: 0.6461 - val_accuracy: 0.6459\n",
      "Epoch 33/80\n",
      "51/51 [==============================] - 0s 8ms/step - loss: 0.5344 - accuracy: 0.7132 - val_loss: 0.6566 - val_accuracy: 0.6334\n",
      "Epoch 34/80\n",
      "51/51 [==============================] - 0s 7ms/step - loss: 0.5475 - accuracy: 0.7201 - val_loss: 0.6604 - val_accuracy: 0.6409\n",
      "Epoch 35/80\n",
      "51/51 [==============================] - 0s 7ms/step - loss: 0.5525 - accuracy: 0.7237 - val_loss: 0.6781 - val_accuracy: 0.6409\n",
      "Epoch 36/80\n",
      "51/51 [==============================] - 0s 6ms/step - loss: 0.5407 - accuracy: 0.7199 - val_loss: 0.6790 - val_accuracy: 0.6209\n",
      "Epoch 37/80\n",
      "51/51 [==============================] - 0s 7ms/step - loss: 0.5208 - accuracy: 0.7552 - val_loss: 0.6562 - val_accuracy: 0.6234\n",
      "Epoch 38/80\n",
      "51/51 [==============================] - 0s 6ms/step - loss: 0.5130 - accuracy: 0.7412 - val_loss: 0.6585 - val_accuracy: 0.6309\n",
      "Epoch 39/80\n",
      "51/51 [==============================] - 0s 7ms/step - loss: 0.5009 - accuracy: 0.7465 - val_loss: 0.6614 - val_accuracy: 0.6384\n",
      "Epoch 40/80\n",
      "51/51 [==============================] - 0s 8ms/step - loss: 0.4934 - accuracy: 0.7650 - val_loss: 0.6857 - val_accuracy: 0.6409\n",
      "Epoch 41/80\n",
      "51/51 [==============================] - 0s 8ms/step - loss: 0.4888 - accuracy: 0.7753 - val_loss: 0.6825 - val_accuracy: 0.6334\n",
      "Epoch 42/80\n",
      "51/51 [==============================] - 0s 8ms/step - loss: 0.4586 - accuracy: 0.7730 - val_loss: 0.6928 - val_accuracy: 0.6284\n",
      "Epoch 43/80\n",
      "51/51 [==============================] - 0s 6ms/step - loss: 0.4574 - accuracy: 0.7860 - val_loss: 0.7163 - val_accuracy: 0.6185\n",
      "Epoch 44/80\n",
      "51/51 [==============================] - 0s 6ms/step - loss: 0.4383 - accuracy: 0.8029 - val_loss: 0.7453 - val_accuracy: 0.6135\n",
      "Epoch 45/80\n",
      "51/51 [==============================] - 0s 7ms/step - loss: 0.4443 - accuracy: 0.7967 - val_loss: 0.7193 - val_accuracy: 0.6209\n",
      "Epoch 46/80\n",
      "51/51 [==============================] - 0s 6ms/step - loss: 0.4023 - accuracy: 0.8217 - val_loss: 0.7523 - val_accuracy: 0.6135\n",
      "Epoch 47/80\n",
      "51/51 [==============================] - 0s 7ms/step - loss: 0.4235 - accuracy: 0.8060 - val_loss: 0.7456 - val_accuracy: 0.6584\n",
      "Epoch 48/80\n",
      "51/51 [==============================] - 0s 7ms/step - loss: 0.3892 - accuracy: 0.8235 - val_loss: 0.7803 - val_accuracy: 0.6209\n",
      "Epoch 49/80\n",
      "51/51 [==============================] - 0s 6ms/step - loss: 0.3691 - accuracy: 0.8563 - val_loss: 0.8045 - val_accuracy: 0.6035\n",
      "Epoch 50/80\n",
      "51/51 [==============================] - 0s 6ms/step - loss: 0.4106 - accuracy: 0.8313 - val_loss: 0.8001 - val_accuracy: 0.6384\n",
      "Epoch 51/80\n",
      "51/51 [==============================] - 0s 6ms/step - loss: 0.3691 - accuracy: 0.8518 - val_loss: 0.8107 - val_accuracy: 0.6259\n",
      "Epoch 52/80\n",
      "51/51 [==============================] - 0s 7ms/step - loss: 0.3419 - accuracy: 0.8448 - val_loss: 0.8682 - val_accuracy: 0.6110\n",
      "Epoch 53/80\n",
      "51/51 [==============================] - 0s 6ms/step - loss: 0.3168 - accuracy: 0.8851 - val_loss: 0.8806 - val_accuracy: 0.6185\n",
      "Epoch 54/80\n",
      "51/51 [==============================] - 0s 7ms/step - loss: 0.3327 - accuracy: 0.8616 - val_loss: 0.8971 - val_accuracy: 0.6259\n",
      "Epoch 55/80\n",
      "51/51 [==============================] - 1s 10ms/step - loss: 0.2893 - accuracy: 0.8866 - val_loss: 0.9089 - val_accuracy: 0.6309\n",
      "Epoch 56/80\n",
      "51/51 [==============================] - 0s 8ms/step - loss: 0.2682 - accuracy: 0.9126 - val_loss: 0.9502 - val_accuracy: 0.6185\n",
      "Epoch 57/80\n",
      "51/51 [==============================] - 0s 8ms/step - loss: 0.2758 - accuracy: 0.8829 - val_loss: 0.9733 - val_accuracy: 0.6259\n",
      "Epoch 58/80\n",
      "51/51 [==============================] - 0s 7ms/step - loss: 0.2696 - accuracy: 0.8938 - val_loss: 1.0064 - val_accuracy: 0.6135\n",
      "Epoch 59/80\n"
     ]
    },
    {
     "name": "stdout",
     "output_type": "stream",
     "text": [
      "51/51 [==============================] - 0s 7ms/step - loss: 0.2369 - accuracy: 0.9152 - val_loss: 1.0867 - val_accuracy: 0.6209\n",
      "Epoch 60/80\n",
      "51/51 [==============================] - 0s 8ms/step - loss: 0.2269 - accuracy: 0.9115 - val_loss: 1.0714 - val_accuracy: 0.6259\n",
      "Epoch 61/80\n",
      "51/51 [==============================] - 0s 6ms/step - loss: 0.2162 - accuracy: 0.9310 - val_loss: 1.1374 - val_accuracy: 0.6110\n",
      "Epoch 62/80\n",
      "51/51 [==============================] - 0s 6ms/step - loss: 0.2315 - accuracy: 0.9139 - val_loss: 1.1364 - val_accuracy: 0.6334\n",
      "Epoch 63/80\n",
      "51/51 [==============================] - 0s 6ms/step - loss: 0.1906 - accuracy: 0.9383 - val_loss: 1.1948 - val_accuracy: 0.6185\n",
      "Epoch 64/80\n",
      "51/51 [==============================] - 0s 6ms/step - loss: 0.1585 - accuracy: 0.9597 - val_loss: 1.2167 - val_accuracy: 0.6135\n",
      "Epoch 65/80\n",
      "51/51 [==============================] - 0s 5ms/step - loss: 0.1711 - accuracy: 0.9337 - val_loss: 1.2562 - val_accuracy: 0.6309\n",
      "Epoch 66/80\n",
      "51/51 [==============================] - 0s 6ms/step - loss: 0.1665 - accuracy: 0.9464 - val_loss: 1.2635 - val_accuracy: 0.6359\n",
      "Epoch 67/80\n",
      "51/51 [==============================] - 0s 5ms/step - loss: 0.1621 - accuracy: 0.9471 - val_loss: 1.2922 - val_accuracy: 0.6160\n",
      "Epoch 68/80\n",
      "51/51 [==============================] - 0s 6ms/step - loss: 0.1493 - accuracy: 0.9646 - val_loss: 1.3573 - val_accuracy: 0.6010\n",
      "Epoch 69/80\n",
      "51/51 [==============================] - 0s 5ms/step - loss: 0.1483 - accuracy: 0.9542 - val_loss: 1.3793 - val_accuracy: 0.6434\n",
      "Epoch 70/80\n",
      "51/51 [==============================] - 0s 7ms/step - loss: 0.1381 - accuracy: 0.9499 - val_loss: 1.4681 - val_accuracy: 0.6259\n",
      "Epoch 71/80\n",
      "51/51 [==============================] - 0s 6ms/step - loss: 0.1322 - accuracy: 0.9544 - val_loss: 1.4793 - val_accuracy: 0.6384\n",
      "Epoch 72/80\n",
      "51/51 [==============================] - 0s 6ms/step - loss: 0.1063 - accuracy: 0.9753 - val_loss: 1.4751 - val_accuracy: 0.6359\n",
      "Epoch 73/80\n",
      "51/51 [==============================] - 0s 8ms/step - loss: 0.0926 - accuracy: 0.9756 - val_loss: 1.5773 - val_accuracy: 0.6409\n",
      "Epoch 74/80\n",
      "51/51 [==============================] - 0s 5ms/step - loss: 0.1042 - accuracy: 0.9639 - val_loss: 1.5732 - val_accuracy: 0.6085\n",
      "Epoch 75/80\n",
      "51/51 [==============================] - 0s 8ms/step - loss: 0.0923 - accuracy: 0.9760 - val_loss: 1.5741 - val_accuracy: 0.6284\n",
      "Epoch 76/80\n",
      "51/51 [==============================] - 0s 6ms/step - loss: 0.0719 - accuracy: 0.9856 - val_loss: 1.6658 - val_accuracy: 0.6334\n",
      "Epoch 77/80\n",
      "51/51 [==============================] - 0s 8ms/step - loss: 0.0648 - accuracy: 0.9835 - val_loss: 1.6367 - val_accuracy: 0.6484\n",
      "Epoch 78/80\n",
      "51/51 [==============================] - 0s 7ms/step - loss: 0.0642 - accuracy: 0.9844 - val_loss: 1.7613 - val_accuracy: 0.6309\n",
      "Epoch 79/80\n",
      "51/51 [==============================] - 0s 8ms/step - loss: 0.0506 - accuracy: 0.9912 - val_loss: 1.7795 - val_accuracy: 0.6309\n",
      "Epoch 80/80\n",
      "51/51 [==============================] - 0s 8ms/step - loss: 0.0537 - accuracy: 0.9899 - val_loss: 1.7940 - val_accuracy: 0.6209\n"
     ]
    }
   ],
   "source": [
    "# モデルの学習の実行（学習の完了までには数秒から数十秒ほど時間がかかります。）\n",
    "result = model.fit(x=X_train_t, y=y_train_t, epochs=80, batch_size=24, validation_data=(X_val_t, y_val_t))"
   ]
  },
  {
   "cell_type": "code",
   "execution_count": 108,
   "metadata": {},
   "outputs": [
    {
     "data": {
      "image/png": "[encoded data removed]",
      "text/plain": [
       "<Figure size 432x288 with 1 Axes>"
      ]
     },
     "metadata": {
      "needs_background": "light"
     },
     "output_type": "display_data"
    }
   ],
   "source": [
    "# 折れ線グラフによる学習データの損失の描画\n",
    "plt.plot(result.history['loss'])\n",
    "\n",
    "# 折れ線グラフによる検証データの損失の描画\n",
    "plt.plot(result.history['val_loss'])\n",
    "\n",
    "# 凡例の指定\n",
    "plt.legend(['Train', 'Val'])\n",
    "\n",
    "# グラフの軸タイトルの指定\n",
    "plt.xlabel('Epoch')\n",
    "plt.ylabel('Loss')\n",
    "\n",
    "# 描画の実行\n",
    "plt.show()"
   ]
  },
  {
   "cell_type": "code",
   "execution_count": 110,
   "metadata": {},
   "outputs": [
    {
     "data": {
      "image/png": "[encoded data removed]",
      "text/plain": [
       "<Figure size 432x288 with 1 Axes>"
      ]
     },
     "metadata": {
      "needs_background": "light"
     },
     "output_type": "display_data"
    }
   ],
   "source": [
    "# 折れ線グラフによる学習データの正解率の描画\n",
    "plt.plot(result.history['accuracy'])\n",
    "\n",
    "# 折れ線グラフによる検証データの正解率の描画\n",
    "plt.plot(result.history['val_accuracy'])\n",
    "\n",
    "# 凡例の指定\n",
    "plt.legend(['Train', 'Val'])\n",
    "\n",
    "# グラフの軸タイトルの指定\n",
    "plt.xlabel('Epoch')\n",
    "plt.ylabel('Accuracy')\n",
    "\n",
    "# 描画の実行\n",
    "plt.show()"
   ]
  },
  {
   "cell_type": "code",
   "execution_count": 111,
   "metadata": {},
   "outputs": [
    {
     "name": "stdout",
     "output_type": "stream",
     "text": [
      "13/13 [==============================] - 0s 2ms/step - loss: 2.3912 - accuracy: 0.5348\n",
      "評価データの正解率: 0.53482586145401\n"
     ]
    }
   ],
   "source": [
    "# 評価データの正解率の計算\n",
    "loss, accuracy = model.evaluate(X_test_t, y_test_t)\n",
    "\n",
    "# 評価データの正解率の表示\n",
    "print('評価データの正解率:', accuracy)"
   ]
  },
  {
   "cell_type": "code",
   "execution_count": 113,
   "metadata": {
    "collapsed": true
   },
   "outputs": [
    {
     "name": "stdout",
     "output_type": "stream",
     "text": [
      "Epoch 1/80\n",
      "51/51 [==============================] - 2s 16ms/step - loss: 0.6926 - accuracy: 0.5141 - val_loss: 0.6789 - val_accuracy: 0.5935\n",
      "Epoch 2/80\n",
      "51/51 [==============================] - 0s 6ms/step - loss: 0.6840 - accuracy: 0.5703 - val_loss: 0.6662 - val_accuracy: 0.5985\n",
      "Epoch 3/80\n",
      "51/51 [==============================] - 0s 6ms/step - loss: 0.6746 - accuracy: 0.5733 - val_loss: 0.6525 - val_accuracy: 0.6284\n",
      "Epoch 4/80\n",
      "51/51 [==============================] - 0s 6ms/step - loss: 0.6657 - accuracy: 0.5881 - val_loss: 0.6381 - val_accuracy: 0.6434\n",
      "Epoch 5/80\n",
      "51/51 [==============================] - 0s 6ms/step - loss: 0.6599 - accuracy: 0.5942 - val_loss: 0.6317 - val_accuracy: 0.6384\n",
      "Epoch 6/80\n",
      "51/51 [==============================] - 0s 9ms/step - loss: 0.6472 - accuracy: 0.6149 - val_loss: 0.6339 - val_accuracy: 0.6434\n",
      "Epoch 7/80\n",
      "51/51 [==============================] - 0s 5ms/step - loss: 0.6660 - accuracy: 0.6066 - val_loss: 0.6316 - val_accuracy: 0.6459\n",
      "Epoch 8/80\n",
      "51/51 [==============================] - 0s 7ms/step - loss: 0.6479 - accuracy: 0.6305 - val_loss: 0.6284 - val_accuracy: 0.6459\n",
      "Epoch 9/80\n",
      "51/51 [==============================] - 0s 7ms/step - loss: 0.6252 - accuracy: 0.6632 - val_loss: 0.6328 - val_accuracy: 0.6434\n",
      "Epoch 10/80\n",
      "51/51 [==============================] - 0s 7ms/step - loss: 0.6517 - accuracy: 0.6446 - val_loss: 0.6324 - val_accuracy: 0.6484\n",
      "Epoch 11/80\n",
      "51/51 [==============================] - 0s 6ms/step - loss: 0.6496 - accuracy: 0.6301 - val_loss: 0.6316 - val_accuracy: 0.6484\n",
      "Epoch 12/80\n",
      "51/51 [==============================] - 0s 7ms/step - loss: 0.6492 - accuracy: 0.6184 - val_loss: 0.6295 - val_accuracy: 0.6534\n",
      "Epoch 13/80\n",
      "51/51 [==============================] - 0s 7ms/step - loss: 0.6390 - accuracy: 0.6427 - val_loss: 0.6321 - val_accuracy: 0.6509\n",
      "Epoch 14/80\n",
      "51/51 [==============================] - 0s 8ms/step - loss: 0.6461 - accuracy: 0.6451 - val_loss: 0.6351 - val_accuracy: 0.6484\n",
      "Epoch 15/80\n",
      "51/51 [==============================] - 1s 11ms/step - loss: 0.6491 - accuracy: 0.6264 - val_loss: 0.6342 - val_accuracy: 0.6384\n",
      "Epoch 16/80\n",
      "51/51 [==============================] - 0s 6ms/step - loss: 0.6519 - accuracy: 0.6226 - val_loss: 0.6323 - val_accuracy: 0.6459\n",
      "Epoch 17/80\n",
      "51/51 [==============================] - 1s 10ms/step - loss: 0.6530 - accuracy: 0.6358 - val_loss: 0.6350 - val_accuracy: 0.6534\n",
      "Epoch 18/80\n",
      "51/51 [==============================] - 0s 9ms/step - loss: 0.6460 - accuracy: 0.6276 - val_loss: 0.6306 - val_accuracy: 0.6459\n",
      "Epoch 19/80\n",
      "51/51 [==============================] - 1s 13ms/step - loss: 0.6411 - accuracy: 0.6430 - val_loss: 0.6360 - val_accuracy: 0.6559\n",
      "Epoch 20/80\n",
      "51/51 [==============================] - 1s 12ms/step - loss: 0.6379 - accuracy: 0.6341 - val_loss: 0.6384 - val_accuracy: 0.6434\n",
      "Epoch 21/80\n",
      "51/51 [==============================] - 0s 9ms/step - loss: 0.6317 - accuracy: 0.6550 - val_loss: 0.6304 - val_accuracy: 0.6434\n",
      "Epoch 22/80\n",
      "51/51 [==============================] - 0s 9ms/step - loss: 0.6290 - accuracy: 0.6418 - val_loss: 0.6361 - val_accuracy: 0.6209\n",
      "Epoch 23/80\n",
      "51/51 [==============================] - 0s 7ms/step - loss: 0.6321 - accuracy: 0.6412 - val_loss: 0.6362 - val_accuracy: 0.6534\n",
      "Epoch 24/80\n",
      "51/51 [==============================] - 0s 7ms/step - loss: 0.6374 - accuracy: 0.6343 - val_loss: 0.6371 - val_accuracy: 0.6559\n",
      "Epoch 25/80\n",
      "51/51 [==============================] - 0s 7ms/step - loss: 0.6352 - accuracy: 0.6579 - val_loss: 0.6432 - val_accuracy: 0.6434\n",
      "Epoch 26/80\n",
      "51/51 [==============================] - 0s 6ms/step - loss: 0.6361 - accuracy: 0.6377 - val_loss: 0.6341 - val_accuracy: 0.6284\n",
      "Epoch 27/80\n",
      "51/51 [==============================] - 0s 6ms/step - loss: 0.6330 - accuracy: 0.6439 - val_loss: 0.6354 - val_accuracy: 0.6459\n",
      "Epoch 28/80\n",
      "51/51 [==============================] - 0s 7ms/step - loss: 0.6455 - accuracy: 0.6153 - val_loss: 0.6363 - val_accuracy: 0.6459\n",
      "Epoch 29/80\n",
      "51/51 [==============================] - 0s 9ms/step - loss: 0.5978 - accuracy: 0.6799 - val_loss: 0.6338 - val_accuracy: 0.6409\n",
      "Epoch 30/80\n",
      "51/51 [==============================] - 0s 7ms/step - loss: 0.6305 - accuracy: 0.6262 - val_loss: 0.6369 - val_accuracy: 0.6359\n",
      "Epoch 31/80\n",
      "51/51 [==============================] - 0s 8ms/step - loss: 0.6266 - accuracy: 0.6488 - val_loss: 0.6442 - val_accuracy: 0.6434\n",
      "Epoch 32/80\n",
      "51/51 [==============================] - 0s 7ms/step - loss: 0.6234 - accuracy: 0.6465 - val_loss: 0.6362 - val_accuracy: 0.6459\n",
      "Epoch 33/80\n",
      "51/51 [==============================] - 0s 6ms/step - loss: 0.6162 - accuracy: 0.6587 - val_loss: 0.6390 - val_accuracy: 0.6509\n",
      "Epoch 34/80\n",
      "51/51 [==============================] - 0s 7ms/step - loss: 0.6184 - accuracy: 0.6470 - val_loss: 0.6415 - val_accuracy: 0.6459\n",
      "Epoch 35/80\n",
      "51/51 [==============================] - 0s 8ms/step - loss: 0.5920 - accuracy: 0.6867 - val_loss: 0.6398 - val_accuracy: 0.6334\n",
      "Epoch 36/80\n",
      "51/51 [==============================] - 0s 7ms/step - loss: 0.6045 - accuracy: 0.6535 - val_loss: 0.6362 - val_accuracy: 0.6309\n",
      "Epoch 37/80\n",
      "51/51 [==============================] - 0s 7ms/step - loss: 0.6250 - accuracy: 0.6638 - val_loss: 0.6493 - val_accuracy: 0.6534\n",
      "Epoch 38/80\n",
      "51/51 [==============================] - 0s 6ms/step - loss: 0.6074 - accuracy: 0.6468 - val_loss: 0.6372 - val_accuracy: 0.6409\n",
      "Epoch 39/80\n",
      "51/51 [==============================] - 0s 6ms/step - loss: 0.6082 - accuracy: 0.6548 - val_loss: 0.6414 - val_accuracy: 0.6534\n",
      "Epoch 40/80\n",
      "51/51 [==============================] - 0s 6ms/step - loss: 0.6109 - accuracy: 0.6634 - val_loss: 0.6426 - val_accuracy: 0.6584\n",
      "Epoch 41/80\n",
      "51/51 [==============================] - 0s 5ms/step - loss: 0.5904 - accuracy: 0.6873 - val_loss: 0.6393 - val_accuracy: 0.6484\n",
      "Epoch 42/80\n",
      "51/51 [==============================] - 0s 5ms/step - loss: 0.5994 - accuracy: 0.6855 - val_loss: 0.6493 - val_accuracy: 0.6484\n",
      "Epoch 43/80\n",
      "51/51 [==============================] - 0s 5ms/step - loss: 0.6058 - accuracy: 0.6561 - val_loss: 0.6481 - val_accuracy: 0.6384\n",
      "Epoch 44/80\n",
      "51/51 [==============================] - 0s 7ms/step - loss: 0.6034 - accuracy: 0.6747 - val_loss: 0.6444 - val_accuracy: 0.6484\n",
      "Epoch 45/80\n",
      "51/51 [==============================] - 0s 7ms/step - loss: 0.6040 - accuracy: 0.6480 - val_loss: 0.6512 - val_accuracy: 0.6534\n",
      "Epoch 46/80\n",
      "51/51 [==============================] - 0s 7ms/step - loss: 0.5988 - accuracy: 0.6812 - val_loss: 0.6490 - val_accuracy: 0.6459\n",
      "Epoch 47/80\n",
      "51/51 [==============================] - 0s 6ms/step - loss: 0.5910 - accuracy: 0.6871 - val_loss: 0.6448 - val_accuracy: 0.6633\n",
      "Epoch 48/80\n",
      "51/51 [==============================] - 0s 7ms/step - loss: 0.5843 - accuracy: 0.6665 - val_loss: 0.6446 - val_accuracy: 0.6459\n",
      "Epoch 49/80\n",
      "51/51 [==============================] - 0s 6ms/step - loss: 0.5779 - accuracy: 0.6846 - val_loss: 0.6446 - val_accuracy: 0.6459\n",
      "Epoch 50/80\n",
      "51/51 [==============================] - 0s 5ms/step - loss: 0.5804 - accuracy: 0.6967 - val_loss: 0.6548 - val_accuracy: 0.6334\n",
      "Epoch 51/80\n",
      "51/51 [==============================] - 0s 6ms/step - loss: 0.5819 - accuracy: 0.6842 - val_loss: 0.6480 - val_accuracy: 0.6484\n",
      "Epoch 52/80\n",
      "51/51 [==============================] - 0s 6ms/step - loss: 0.5862 - accuracy: 0.6887 - val_loss: 0.6478 - val_accuracy: 0.6309\n",
      "Epoch 53/80\n",
      "51/51 [==============================] - 0s 6ms/step - loss: 0.5525 - accuracy: 0.6974 - val_loss: 0.6551 - val_accuracy: 0.6259\n",
      "Epoch 54/80\n",
      "51/51 [==============================] - 0s 6ms/step - loss: 0.5531 - accuracy: 0.7079 - val_loss: 0.6684 - val_accuracy: 0.6534\n",
      "Epoch 55/80\n",
      "51/51 [==============================] - 0s 7ms/step - loss: 0.5661 - accuracy: 0.7006 - val_loss: 0.6617 - val_accuracy: 0.6409\n",
      "Epoch 56/80\n",
      "51/51 [==============================] - 0s 7ms/step - loss: 0.5728 - accuracy: 0.6909 - val_loss: 0.6610 - val_accuracy: 0.6284\n",
      "Epoch 57/80\n",
      "51/51 [==============================] - 0s 5ms/step - loss: 0.5432 - accuracy: 0.7096 - val_loss: 0.6647 - val_accuracy: 0.6284\n",
      "Epoch 58/80\n",
      "51/51 [==============================] - 0s 6ms/step - loss: 0.5592 - accuracy: 0.6866 - val_loss: 0.6700 - val_accuracy: 0.6434\n",
      "Epoch 59/80\n"
     ]
    },
    {
     "name": "stdout",
     "output_type": "stream",
     "text": [
      "51/51 [==============================] - 0s 5ms/step - loss: 0.5656 - accuracy: 0.6863 - val_loss: 0.6649 - val_accuracy: 0.6459\n",
      "Epoch 60/80\n",
      "51/51 [==============================] - 0s 5ms/step - loss: 0.5586 - accuracy: 0.6998 - val_loss: 0.6800 - val_accuracy: 0.6559\n",
      "Epoch 61/80\n",
      "51/51 [==============================] - 0s 5ms/step - loss: 0.5655 - accuracy: 0.6950 - val_loss: 0.6763 - val_accuracy: 0.6509\n",
      "Epoch 62/80\n",
      "51/51 [==============================] - 0s 5ms/step - loss: 0.5289 - accuracy: 0.7293 - val_loss: 0.6803 - val_accuracy: 0.6359\n",
      "Epoch 63/80\n",
      "51/51 [==============================] - 0s 5ms/step - loss: 0.5627 - accuracy: 0.6932 - val_loss: 0.6905 - val_accuracy: 0.6384\n",
      "Epoch 64/80\n",
      "51/51 [==============================] - 0s 5ms/step - loss: 0.5169 - accuracy: 0.7441 - val_loss: 0.6852 - val_accuracy: 0.6359\n",
      "Epoch 65/80\n",
      "51/51 [==============================] - 0s 5ms/step - loss: 0.5369 - accuracy: 0.7243 - val_loss: 0.7020 - val_accuracy: 0.6409\n",
      "Epoch 66/80\n",
      "51/51 [==============================] - 0s 5ms/step - loss: 0.5213 - accuracy: 0.7146 - val_loss: 0.6971 - val_accuracy: 0.6359\n",
      "Epoch 67/80\n",
      "51/51 [==============================] - 0s 5ms/step - loss: 0.5083 - accuracy: 0.7298 - val_loss: 0.7046 - val_accuracy: 0.6309\n",
      "Epoch 68/80\n",
      "51/51 [==============================] - 0s 6ms/step - loss: 0.5378 - accuracy: 0.7159 - val_loss: 0.6912 - val_accuracy: 0.6534\n",
      "Epoch 69/80\n",
      "51/51 [==============================] - 0s 5ms/step - loss: 0.5131 - accuracy: 0.7247 - val_loss: 0.7564 - val_accuracy: 0.6185\n",
      "Epoch 70/80\n",
      "51/51 [==============================] - 0s 5ms/step - loss: 0.5161 - accuracy: 0.7265 - val_loss: 0.7016 - val_accuracy: 0.6434\n",
      "Epoch 71/80\n",
      "51/51 [==============================] - 0s 7ms/step - loss: 0.4986 - accuracy: 0.7502 - val_loss: 0.7440 - val_accuracy: 0.6359\n",
      "Epoch 72/80\n",
      "51/51 [==============================] - 0s 6ms/step - loss: 0.5193 - accuracy: 0.7106 - val_loss: 0.7643 - val_accuracy: 0.6209\n",
      "Epoch 73/80\n",
      "51/51 [==============================] - 0s 6ms/step - loss: 0.5285 - accuracy: 0.7105 - val_loss: 0.7704 - val_accuracy: 0.6459\n",
      "Epoch 74/80\n",
      "51/51 [==============================] - 0s 7ms/step - loss: 0.5071 - accuracy: 0.7351 - val_loss: 0.7555 - val_accuracy: 0.6384\n",
      "Epoch 75/80\n",
      "51/51 [==============================] - 0s 6ms/step - loss: 0.4945 - accuracy: 0.7401 - val_loss: 0.7704 - val_accuracy: 0.6185\n",
      "Epoch 76/80\n",
      "51/51 [==============================] - 0s 7ms/step - loss: 0.4843 - accuracy: 0.7446 - val_loss: 0.7606 - val_accuracy: 0.6334\n",
      "Epoch 77/80\n",
      "51/51 [==============================] - 0s 6ms/step - loss: 0.4703 - accuracy: 0.7617 - val_loss: 0.7817 - val_accuracy: 0.6259\n",
      "Epoch 78/80\n",
      "51/51 [==============================] - 0s 6ms/step - loss: 0.4660 - accuracy: 0.7373 - val_loss: 0.7662 - val_accuracy: 0.6160\n",
      "Epoch 79/80\n",
      "51/51 [==============================] - 0s 8ms/step - loss: 0.4874 - accuracy: 0.7428 - val_loss: 0.8028 - val_accuracy: 0.6209\n",
      "Epoch 80/80\n",
      "51/51 [==============================] - 0s 7ms/step - loss: 0.4665 - accuracy: 0.7378 - val_loss: 0.8489 - val_accuracy: 0.6185\n"
     ]
    }
   ],
   "source": [
    "# Dropoutのインポート\n",
    "from keras.layers import Dropout\n",
    "\n",
    "# ネットワークの各層のサイズの定義\n",
    "num_l1 = 100\n",
    "num_l2 = 20\n",
    "num_output = 1\n",
    "\n",
    "# Dropoutの割合の定義\n",
    "dropout_rate = 0.4\n",
    "\n",
    "# 以下、ネットワークを構築\n",
    "model = Sequential()\n",
    "# 第1層\n",
    "model.add(LSTM(units=num_l1,\n",
    "                activation='tanh',\n",
    "                batch_input_shape=(None, X_train_t.shape[1], X_train_t.shape[2])))\n",
    "model.add(Dropout(dropout_rate))\n",
    "# 第2層\n",
    "model.add(Dense(num_l2, activation='relu'))\n",
    "model.add(Dropout(dropout_rate))\n",
    "# 出力層\n",
    "model.add(Dense(num_output, activation='sigmoid'))\n",
    "# ネットワークのコンパイル\n",
    "model.compile(loss='binary_crossentropy', optimizer='adam', metrics=['accuracy'])\n",
    "\n",
    "# モデルの学習の実行（学習の完了までには数秒から数十秒ほど時間がかかります。）\n",
    "result = model.fit(x=X_train_t, y=y_train_t, epochs=80, batch_size=24, validation_data=(X_val_t, y_val_t))"
   ]
  },
  {
   "cell_type": "code",
   "execution_count": 115,
   "metadata": {},
   "outputs": [
    {
     "data": {
      "image/png": "[encoded data removed]",
      "text/plain": [
       "<Figure size 432x288 with 2 Axes>"
      ]
     },
     "metadata": {
      "needs_background": "light"
     },
     "output_type": "display_data"
    }
   ],
   "source": [
    "# 損失のグラフの描画\n",
    "plt.subplot(1, 2, 1)\n",
    "plt.plot(result.history['loss'])\n",
    "plt.plot(result.history['val_loss'])\n",
    "plt.legend(['Train', 'Val'])\n",
    "plt.xlabel('Epoch')\n",
    "plt.ylabel('Loss')\n",
    "plt.title('Loss')\n",
    "\n",
    "# 正解率のグラフの描画\n",
    "plt.subplot(1, 2, 2)\n",
    "plt.plot(result.history['accuracy'])\n",
    "plt.plot(result.history['val_accuracy'])\n",
    "plt.legend(['Train', 'Val'])\n",
    "plt.xlabel('Epoch')\n",
    "plt.ylabel('Accuracy')\n",
    "plt.title('Accuracy')\n",
    "\n",
    "# 描画の実行\n",
    "plt.show()"
   ]
  },
  {
   "cell_type": "code",
   "execution_count": null,
   "metadata": {},
   "outputs": [],
   "source": [
    "# ライブラリのインポート\n",
    "import numpy as np\n",
    "from sklearn.metrics import accuracy_score\n",
    "\n",
    "# 評価データの予測結果の算出\n",
    "pred_prob = model.predict(X_test_t)\n",
    "\n",
    "# 予測結果の先頭10件を確認\n",
    "print('予測結果の先頭10件')\n",
    "print(pred_prob[:10])\n",
    "\n",
    "# 評価データの予測結果を0もしくは1に丸め込み\n",
    "pred = np.round(pred_prob)\n",
    "\n",
    "# 丸め込んだ予測結果の先頭10件を確認\n",
    "print('丸め込んだ予測結果の先頭10件')\n",
    "print(pred[:10])\n",
    "\n",
    "# 評価データの正解率の計算\n",
    "accuracy = accuracy_score(y_true=y_test_t, y_pred=pred)\n",
    "\n",
    "# 評価データの正解率の表示\n",
    "print('評価データの正解率:', accuracy)"
   ]
  },
  {
   "cell_type": "code",
   "execution_count": 129,
   "metadata": {},
   "outputs": [],
   "source": [
    "pred_prob = pd.DataFrame(pred_prob).to_csv('pred_prob.csv')"
   ]
  },
  {
   "cell_type": "code",
   "execution_count": null,
   "metadata": {},
   "outputs": [],
   "source": []
  }
 ],
 "metadata": {
  "kernelspec": {
   "display_name": "Python 3",
   "language": "python",
   "name": "python3"
  },
  "language_info": {
   "codemirror_mode": {
    "name": "ipython",
    "version": 3
   },
   "file_extension": ".py",
   "mimetype": "text/x-python",
   "name": "python",
   "nbconvert_exporter": "python",
   "pygments_lexer": "ipython3",
   "version": "3.8.5"
  }
 },
 "nbformat": 4,
 "nbformat_minor": 4
}
